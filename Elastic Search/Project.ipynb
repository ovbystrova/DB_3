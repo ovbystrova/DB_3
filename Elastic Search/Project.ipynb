{
 "cells": [
  {
   "cell_type": "markdown",
   "metadata": {},
   "source": [
    "# Название проекта по Базам Данных"
   ]
  },
  {
   "cell_type": "markdown",
   "metadata": {},
   "source": [
    "Требования к нереляционным БД\n",
    "\n",
    "2 - нереляционная БД + \n",
    "\n",
    "2 - красивая структура БД + \n",
    "\n",
    "2 - интерфейс позволяет класть+, доставать+, удалять данные (проводить операции CRUD - Create, Read, Update, Delete) + \n",
    "\n",
    "2 - два действия помимо CRUD (сортировка, группировка, агрегация, ...)\n",
    "\n",
    "2 - зависит от БД: Redis - использование ключей, хешей, ...; Neo4j - нахождение путей не только к соседним вершинам, операции с графами; MongoDB, ElasticSearch - работа с текстами или географией; остальные БД - будем договарив"
   ]
  },
  {
   "cell_type": "code",
   "execution_count": 2,
   "metadata": {},
   "outputs": [],
   "source": [
    "from elasticsearch import Elasticsearch\n",
    "import json\n",
    "from tqdm import tqdm"
   ]
  },
  {
   "cell_type": "code",
   "execution_count": null,
   "metadata": {},
   "outputs": [],
   "source": [
    "# https://www.elastic.co/downloads/elasticsearch"
   ]
  },
  {
   "cell_type": "markdown",
   "metadata": {},
   "source": [
    "В базе данных хранятся статьи из датасета Cornell Newsroom Summarization (https://summari.es/). Он используется в задаче саммаризации. Мы будем хранить для каждой статьи информацию об url, архиве, заголовке, дате, полном тексте, и саммари текста.  "
   ]
  },
  {
   "cell_type": "markdown",
   "metadata": {},
   "source": [
    "# Cтруктура "
   ]
  },
  {
   "cell_type": "code",
   "execution_count": 11,
   "metadata": {},
   "outputs": [],
   "source": [
    "def clean_tqdm():\n",
    "    for instance in list(tqdm._instances): \n",
    "        tqdm._decr_instances(instance)"
   ]
  },
  {
   "cell_type": "code",
   "execution_count": 12,
   "metadata": {},
   "outputs": [],
   "source": [
    "es = Elasticsearch()"
   ]
  },
  {
   "cell_type": "code",
   "execution_count": 13,
   "metadata": {},
   "outputs": [],
   "source": [
    "# Класс, хранящий информацию о статье.\n",
    "class Article:\n",
    "    def __init__(self):\n",
    "        self.url = \"\"\n",
    "        self.archive = \"\"\n",
    "        self.title = \"\"\n",
    "        self.date = \"\"\n",
    "        self.text = \"\"\n",
    "        self.summary = \"\"        \n",
    "    \n",
    "    # Конвертация в JSON.\n",
    "    def toJSON(self):\n",
    "        res='{\"url\":\"'+self.url+'\", \"archive\":\"'+self.archive+'\", \"title\":\"'+self.title+'\", \"date\":\"'\n",
    "        res+=self.date+'\", \"text\":\"'+self.text+'\", \"summary\":\"'+self.summer+'\"}'\n",
    "        return res\n",
    "    \n",
    "    # Конвертация в словарь.\n",
    "    def toDict(self):\n",
    "        res={\"url\":self.url, \"archive\":self.archive, \"title\":self.title, \"date\":self.date,\\\n",
    "             \"text\":self.text, \"summary\":self.summary}\n",
    "        return res"
   ]
  },
  {
   "cell_type": "code",
   "execution_count": 14,
   "metadata": {},
   "outputs": [],
   "source": [
    "def getArticles(json_file, N): # test_stats.jsonl\n",
    "    \"\"\"\n",
    "    Выкачивает N статей из json_file\n",
    "    Возвращает список, где каждый элемент - Article с заполненными полями.\n",
    "    \"\"\"\n",
    "    articles = []\n",
    "    with open(json_file, 'r') as json_file:\n",
    "        json_list = list(json_file)[:N]\n",
    "    \n",
    "    for json_str in json_list:\n",
    "            result = json.loads(json_str)\n",
    "            a = Article()\n",
    "            a.url = result['url']\n",
    "            a.archive = result['archive']\n",
    "            a.title = result['title']\n",
    "            a.date = result['date']\n",
    "            a.text = result['text']\n",
    "            a.summary = result['summary']\n",
    "            \n",
    "            articles.append(a)                           \n",
    "    return articles"
   ]
  },
  {
   "cell_type": "markdown",
   "metadata": {},
   "source": [
    "## Создаем индекс и маппинг к нему"
   ]
  },
  {
   "cell_type": "code",
   "execution_count": 47,
   "metadata": {},
   "outputs": [
    {
     "data": {
      "text/plain": [
       "{'acknowledged': True}"
      ]
     },
     "execution_count": 47,
     "metadata": {},
     "output_type": "execute_result"
    }
   ],
   "source": [
    "# es.indices.delete(\"cornell\")"
   ]
  },
  {
   "cell_type": "code",
   "execution_count": 48,
   "metadata": {},
   "outputs": [
    {
     "data": {
      "text/plain": [
       "{'acknowledged': True, 'shards_acknowledged': True, 'index': 'cornell'}"
      ]
     },
     "execution_count": 48,
     "metadata": {},
     "output_type": "execute_result"
    }
   ],
   "source": [
    "es.indices.create(index=\"cornell\")"
   ]
  },
  {
   "cell_type": "code",
   "execution_count": 49,
   "metadata": {},
   "outputs": [
    {
     "data": {
      "text/plain": [
       "{'acknowledged': True}"
      ]
     },
     "execution_count": 49,
     "metadata": {},
     "output_type": "execute_result"
    }
   ],
   "source": [
    "mapit={\"article\":{\"properties\":{\"url\":{\"type\":\"text\"},\n",
    "                                \"archive\": {\"type\":\"text\"},\n",
    "                                \"title\": {\"type\":\"text\", \"analyzer\":\"english\"},\n",
    "                                \"date\":{\"type\":\"text\"},\n",
    "                                \"text\":{\"type\":\"text\",\"analyzer\" : \"english\"},\n",
    "                                \"summary\":{\"type\":\"text\",\"analyzer\" : \"english\"}}}}\n",
    "\n",
    "es.indices.put_mapping(index=\"cornell\", doc_type='article', body=mapit, include_type_name=True)"
   ]
  },
  {
   "cell_type": "markdown",
   "metadata": {},
   "source": [
    "## Create"
   ]
  },
  {
   "cell_type": "code",
   "execution_count": 50,
   "metadata": {},
   "outputs": [],
   "source": [
    "def add_items(N, file=\"test-stats.jsonl\", index=\"cornell\", es=es):\n",
    "    \"\"\"\n",
    "    Добавляет N статей из file в БД(index)\n",
    "    \"\"\"\n",
    "    articles = getArticles(file, N=N)\n",
    "    for ind, article in tqdm(enumerate(articles)):\n",
    "        es.index(index=index, id=ind, doc_type='article', body=article.toDict())\n",
    "    return \"Added {} articles successfully\".format(N) "
   ]
  },
  {
   "cell_type": "code",
   "execution_count": 51,
   "metadata": {},
   "outputs": [
    {
     "name": "stderr",
     "output_type": "stream",
     "text": [
      "10it [00:00, 61.72it/s]\n"
     ]
    },
    {
     "name": "stdout",
     "output_type": "stream",
     "text": [
      "Wall time: 4.39 s\n"
     ]
    },
    {
     "data": {
      "text/plain": [
       "'Added 10 articles successfully'"
      ]
     },
     "execution_count": 51,
     "metadata": {},
     "output_type": "execute_result"
    }
   ],
   "source": [
    "%%time \n",
    "\n",
    "# clean_tqdm()\n",
    "add_items(10)"
   ]
  },
  {
   "cell_type": "markdown",
   "metadata": {},
   "source": [
    "## Read"
   ]
  },
  {
   "cell_type": "code",
   "execution_count": 52,
   "metadata": {},
   "outputs": [],
   "source": [
    "def read_items(index=\"cornell\", body={\"query\": {\"match_all\": {}}}, es=es):\n",
    "    \"\"\"\n",
    "    Вытаскивает элементы из БД. По умолчанию вытащит все элементы.\n",
    "    body: dict\n",
    "    return: list\n",
    "    \"\"\"\n",
    "    res = es.search(index=index, body=body)\n",
    "    res[\"hits\"][\"hits\"]\n",
    "    return res[\"hits\"][\"hits\"]"
   ]
  },
  {
   "cell_type": "code",
   "execution_count": 53,
   "metadata": {
    "scrolled": false
   },
   "outputs": [
    {
     "data": {
      "text/plain": [
       "{'_index': 'cornell',\n",
       " '_type': 'article',\n",
       " '_id': '0',\n",
       " '_score': 1.0,\n",
       " '_source': {'url': 'http://www.nydailynews.com/archives/news/1995/10/14/1995-10-14_selena_s_last_cries___shot_s.html',\n",
       "  'archive': 'http://web.archive.org/web/20090428161725id_/http://www.nydailynews.com:80/archives/news/1995/10/14/1995-10-14_selena_s_last_cries___shot_s.html',\n",
       "  'title': \"SELENA'S LAST CRIES SHOT SINGER BEGGED HELP, NAMED SUSPECT\",\n",
       "  'date': '20090428161725',\n",
       "  'text': 'By MATT SCHWARTZ in Houston and WENDELL JAMIESON in New York Daily News Writers\\n\\nSaturday, October 14th 1995, 4:22AM\\n\\nBleeding from a massive chest wound, Tejano star Selena cried, \"Help me! Help me! I\\'ve been shot!\" and then named her killer with her dying breath.\\n\\nShaken witnesses yesterday told a spellbound Houston courtroom how the blood-covered, mortally wounded 23-year-old Hispanic singing sensation burst into the lobby of the Corpus Christi Days Inn last March 31.\\n\\nGasping for breath, Selena told motel workers that Yolanda Saldivar the president of her fan club shot her once in the back. She begged, \"Close the door or she will shoot me again,\" the witnesses said.\\n\\nThe testimony came on the third day of Saldivar\\'s trial on charges she murdered Selena with a shot from a .38-caliber revolver when the star tried to fire her for embezzling $30,000 from two boutiques she managed for the singer.\\n\\nAs a paramedic and motel workers recounted Selena\\'s last desperate moments, her mother, father and brother sobbed quietly. Saldivar, as she has throughout the trial, stared blankly.\\n\\nRuben Deleon, the motel\\'s sales director, said he knelt over the dying star and asked who shot her.\\n\\n\"She said \\'Yolanda Saldivar in room 158,\\' \" Deleon said.\\n\\n\"She was yelling, \\'Help me! Help me! I\\'ve been shot,\\' \" said Rosalinda Gonzalez, an assistant manager. \"I asked who shot her. She said the lady in room 158. She moaned. Her eyes rolled up.\"\\n\\nFront desk clerk Shawna Vela said she dialed 911 and took the phone with her as she kneeled over the fallen singer, asking her what happened.\\n\\n\"She said \\'Yolanda,\\' she said \\'In room 158,\\' \" Vela testified.\\n\\nThe first paramedic on the scene, Richard Fredrickson, testified that he arrived just two minutes after the call but it was already too late.\\n\\n\"The girl was covered with blood,\" he remembered. \"Blood was thick from her neck to her knees, all the way around both sides.\"\\n\\nFredrickson couldn\\'t even see the mortal wound until he cut off Selena\\'s sweatshirt. He felt for a pulse in her neck but could feel only twitching muscles, he said.\\n\\nMinutes later, as he rode in an ambulance with the now unconscious Selena, he unclenched the dying woman\\'s fist and made an ironic discovery.\\n\\n\"When I opened it, a ring fell out,\" he said. \"It was covered with blood.\"\\n\\nThe 14-karat gold and diamond ring, topped with a white-gold egg, was a gift from the Grammy winner\\'s boutique employes and Saldivar. Police have said Saldivar demanded the ring back. But before Selena could hand it over, she was shot.\\n\\nThe singer, whose full name was Selena Quintanilla Perez, was born around Easter and collected decorative eggs.\\n\\nThe defense claims Saldivar, 35, was hysterical and shot Selena by accident. Prosecutors say it was deliberate.',\n",
       "  'summary': 'Bleeding from a massive chest wound, Tejano star Selena cried, \"Help me! Help me! I\\'ve been shot!\"and then named her killer with her dying breath. Shaken witnesses yesterday told a spellbound Houston courtroom how the blood-covered, mortally wounded 23-year-old Hispanic singing sensation burst into the lobby of the Corpus Christi Days Inn last March 31. Gasping for breath, Selena told motel workers that Yolanda Saldivar the president of her fan club shot'}}"
      ]
     },
     "execution_count": 53,
     "metadata": {},
     "output_type": "execute_result"
    }
   ],
   "source": [
    "read_items()[0]"
   ]
  },
  {
   "cell_type": "code",
   "execution_count": 54,
   "metadata": {},
   "outputs": [
    {
     "data": {
      "text/plain": [
       "[{'_index': 'cornell',\n",
       "  '_type': 'article',\n",
       "  '_id': '5',\n",
       "  '_score': 2.5153728,\n",
       "  '_source': {'url': 'http://www.economist.com/blogs/americasview/2012/06/mexico-election-diary',\n",
       "   'archive': 'http://web.archive.org/web/20120604112028id_/http://www.economist.com/blogs/americasview/2012/06/mexico-election-diary',\n",
       "   'title': 'What’s on Mexican minds?',\n",
       "   'date': '20120604112028',\n",
       "   'text': 'Dear TW: There are serious numerical anomalies in the debate you are moderating.You may want to check it out.\\n\\nI will state no opinion on who should or should not, will or will not become President of Mexico in four weeks´ time.\\n\\nI will nevertheless tell you that there is ample evidence to point out that the vote in this debate has been tampered with.\\n\\nI am sorry and certainly I believe the political operative who quite possibly has been behind this vote-rigging has to be at least privately reprimanded by his party;The Economist´s staff may want to do a quick investigation with the ample means at their disposal and should they conclude that enough evidence supports the proposition that this shameful event has taken place, a disclaimer on the debate should be added.Pulling this under the rug would be quite counter-productive.\\n\\nTo many people the world over, myself included, this newspaper is an institution worth preserving.Numbers, facts and balanced, insightful analysis are the reasons we have trusted The Economist for decades. It is totally unacceptable for anyone to tarnish its reputation by using old Mexican small-town vote-rigging tactics either to get back at Mrs Josefina Vazquez´s use of The Economist at the first televised presidential debate against Mr Peña Nieto, or as a propaganda tool in the next debate.\\n\\nLet´s see the numbers.For those unfamiliar with Mexico´s presidential election to be held July 1, 2012,there are four candidates.One of them, from the teacher´s union, has never polled above 5%.The ones with real chances are Mr. Peña Nieto from PRI, who polled formerly as high as 42% and now in the low 30s; Mrs.Josefina Vazquez, from the ruling center-right PAN,now in third and formerly in second place, polling in the high 20s, and Mr. AMLO from the center-left PRD, now in second place, polling in the low 30s but behind Mr Peña Nieto.Some polls speak of a four point spread between the two, others point to a ten point spread.\\n\\nBut the essence of the matter is that all parties as well as the voters they represent are united in this: they are all against PRI and Mr. Peña Nieto ever claiming back the presidency they lost in the year 2000.Thus if Mr Peña Nieto has 34% or 42 % of the votes, by definition that means that either 66% or 58% of all voters are opposed to the proposition that \"Mexico is better off under the PRI\" The fact that your poll shows 30% of the people opposing your motion instead of the 60-70% indicated by all polls conducted in Mexico is a first sign of trouble.Only the staff at The Economist knows how many votes have originated outside Mexico.If the numbers do not change much once these non-Mexico originated votes have been removed, the idea of vote manipulation gathers strength.\\n\\nNow, the people most likely to read this newspaper in Mexico, and thus vote in your debate, are naturally highly educated professionals.But you see, the latest poll gruporeforma.blogs.com/encuestas confirms the well-known fact that this demographic is overwhelmingly against the PRI, and has been so for at least 20 years, if not more.The affluent and well-educated are mostly PRD and to a certain extend PAN.In Mexico City, for example, PRD has a twenty-point lead.The actual numbers nationwide are:For voters with only primary education PRI 41%,PRD 30%, PAN 25%.For voters with college education:PRI 28%, PRD 43%, PAN 21%.Therefore, among the people most likely to read TE less than 30% would agree with your proposition, yet your numbers show just the opposite result.\\n\\nOr do they? Well, actually the opinions stated in your 116 Opening Comments,50 Rebuttal Comments, 541 Opening Recommendations and 286 Rebuttal Recommendations if carefully tabulated and analyzed are totally supportive of those rough numbers of 70% of voter´s negating PRI´s returning to the Presidency and below 30% believing \"Mexico is better off under the PRI\" The fact that your comments are in statistical agreement with the numbers we would expect from a multitude of polls, while your poll debate numbers are so divergent as to be mirror images of the former is a clear indication of voter fraud.\\n\\nIf we read carefully the 116 Opening Comments we see only 105 are real comments, since people sometimes mistakenly click on to post before they have actually written any comment.About 10% of these 105 indicate no decision on the debate´s proposition, but rather speak of various tangential matters such as the convenience for non-Mexicans to abstain from voting(the opinion of that gentleman who wisely retired to sunny Portugal,SaintMartinian),or to buy beach-front property(YukonDave),teachers saying they will use the debate in their classroom...and a funny Mexican who thinks his country would be better served if it were a colony of Sweden or The Netherlands(recommended by 3)...or another one who says Mexico would have been better off if it had not declared independence from Spain.',\n",
       "   'summary': 'WITH a month to go until Mexico’s presidential election, everyone is thinking about politics. Or are they? A new poll asking which news stories have caught people’s attention suggests that campaign hasn’t grabbed everyone.'}}]"
      ]
     },
     "execution_count": 54,
     "metadata": {},
     "output_type": "execute_result"
    }
   ],
   "source": [
    "# Вытащим статью, в которой в названии есть \"Mexican\"\n",
    "read_items(body={\"query\": {\"match\": {\"title\": \"Mexican\"}}})"
   ]
  },
  {
   "cell_type": "markdown",
   "metadata": {},
   "source": [
    "## Update"
   ]
  },
  {
   "cell_type": "code",
   "execution_count": 55,
   "metadata": {},
   "outputs": [
    {
     "data": {
      "text/plain": [
       "{'_index': 'cornell',\n",
       " '_type': 'article',\n",
       " '_id': '0',\n",
       " '_version': 2,\n",
       " 'result': 'updated',\n",
       " '_shards': {'total': 2, 'successful': 1, 'failed': 0},\n",
       " '_seq_no': 10,\n",
       " '_primary_term': 1}"
      ]
     },
     "execution_count": 55,
     "metadata": {},
     "output_type": "execute_result"
    }
   ],
   "source": [
    "es.update(index='cornell',doc_type='article',id=0,\n",
    "                body={\"doc\": {\"title\": \"I love dogs\"}})"
   ]
  },
  {
   "cell_type": "code",
   "execution_count": 57,
   "metadata": {},
   "outputs": [],
   "source": [
    "def update_item(id, body, index=\"cornell\", doc_type=\"article\", es=es):\n",
    "    \"\"\"\n",
    "    Обновляет документ по его id\n",
    "    \"\"\"\n",
    "    return es.update(index=index,doc_type=doc_type,id=id, body=body)"
   ]
  },
  {
   "cell_type": "code",
   "execution_count": 58,
   "metadata": {},
   "outputs": [
    {
     "data": {
      "text/plain": [
       "{'_index': 'cornell',\n",
       " '_type': 'article',\n",
       " '_id': '0',\n",
       " '_version': 2,\n",
       " 'result': 'noop',\n",
       " '_shards': {'total': 0, 'successful': 0, 'failed': 0},\n",
       " '_seq_no': 10,\n",
       " '_primary_term': 1}"
      ]
     },
     "execution_count": 58,
     "metadata": {},
     "output_type": "execute_result"
    }
   ],
   "source": [
    "update_item(0, body={\"doc\": {\"title\": \"I love dogs\"}})"
   ]
  },
  {
   "cell_type": "code",
   "execution_count": 60,
   "metadata": {},
   "outputs": [
    {
     "data": {
      "text/plain": [
       "{'_index': 'cornell',\n",
       " '_type': '_doc',\n",
       " '_id': '0',\n",
       " '_version': 2,\n",
       " '_seq_no': 10,\n",
       " '_primary_term': 1,\n",
       " 'found': True,\n",
       " '_source': {'url': 'http://www.nydailynews.com/archives/news/1995/10/14/1995-10-14_selena_s_last_cries___shot_s.html',\n",
       "  'archive': 'http://web.archive.org/web/20090428161725id_/http://www.nydailynews.com:80/archives/news/1995/10/14/1995-10-14_selena_s_last_cries___shot_s.html',\n",
       "  'title': 'I love dogs',\n",
       "  'date': '20090428161725',\n",
       "  'text': 'By MATT SCHWARTZ in Houston and WENDELL JAMIESON in New York Daily News Writers\\n\\nSaturday, October 14th 1995, 4:22AM\\n\\nBleeding from a massive chest wound, Tejano star Selena cried, \"Help me! Help me! I\\'ve been shot!\" and then named her killer with her dying breath.\\n\\nShaken witnesses yesterday told a spellbound Houston courtroom how the blood-covered, mortally wounded 23-year-old Hispanic singing sensation burst into the lobby of the Corpus Christi Days Inn last March 31.\\n\\nGasping for breath, Selena told motel workers that Yolanda Saldivar the president of her fan club shot her once in the back. She begged, \"Close the door or she will shoot me again,\" the witnesses said.\\n\\nThe testimony came on the third day of Saldivar\\'s trial on charges she murdered Selena with a shot from a .38-caliber revolver when the star tried to fire her for embezzling $30,000 from two boutiques she managed for the singer.\\n\\nAs a paramedic and motel workers recounted Selena\\'s last desperate moments, her mother, father and brother sobbed quietly. Saldivar, as she has throughout the trial, stared blankly.\\n\\nRuben Deleon, the motel\\'s sales director, said he knelt over the dying star and asked who shot her.\\n\\n\"She said \\'Yolanda Saldivar in room 158,\\' \" Deleon said.\\n\\n\"She was yelling, \\'Help me! Help me! I\\'ve been shot,\\' \" said Rosalinda Gonzalez, an assistant manager. \"I asked who shot her. She said the lady in room 158. She moaned. Her eyes rolled up.\"\\n\\nFront desk clerk Shawna Vela said she dialed 911 and took the phone with her as she kneeled over the fallen singer, asking her what happened.\\n\\n\"She said \\'Yolanda,\\' she said \\'In room 158,\\' \" Vela testified.\\n\\nThe first paramedic on the scene, Richard Fredrickson, testified that he arrived just two minutes after the call but it was already too late.\\n\\n\"The girl was covered with blood,\" he remembered. \"Blood was thick from her neck to her knees, all the way around both sides.\"\\n\\nFredrickson couldn\\'t even see the mortal wound until he cut off Selena\\'s sweatshirt. He felt for a pulse in her neck but could feel only twitching muscles, he said.\\n\\nMinutes later, as he rode in an ambulance with the now unconscious Selena, he unclenched the dying woman\\'s fist and made an ironic discovery.\\n\\n\"When I opened it, a ring fell out,\" he said. \"It was covered with blood.\"\\n\\nThe 14-karat gold and diamond ring, topped with a white-gold egg, was a gift from the Grammy winner\\'s boutique employes and Saldivar. Police have said Saldivar demanded the ring back. But before Selena could hand it over, she was shot.\\n\\nThe singer, whose full name was Selena Quintanilla Perez, was born around Easter and collected decorative eggs.\\n\\nThe defense claims Saldivar, 35, was hysterical and shot Selena by accident. Prosecutors say it was deliberate.',\n",
       "  'summary': 'Bleeding from a massive chest wound, Tejano star Selena cried, \"Help me! Help me! I\\'ve been shot!\"and then named her killer with her dying breath. Shaken witnesses yesterday told a spellbound Houston courtroom how the blood-covered, mortally wounded 23-year-old Hispanic singing sensation burst into the lobby of the Corpus Christi Days Inn last March 31. Gasping for breath, Selena told motel workers that Yolanda Saldivar the president of her fan club shot'}}"
      ]
     },
     "execution_count": 60,
     "metadata": {},
     "output_type": "execute_result"
    }
   ],
   "source": [
    "es.get(index=\"cornell\", id=0)"
   ]
  },
  {
   "cell_type": "markdown",
   "metadata": {},
   "source": [
    "## Delete"
   ]
  },
  {
   "cell_type": "code",
   "execution_count": 64,
   "metadata": {},
   "outputs": [],
   "source": [
    "def delete_item(id, doc_type=\"article\", index=\"cornell\",es=es):\n",
    "    return  es.delete(index=index,doc_type=doc_type,id=id)"
   ]
  },
  {
   "cell_type": "code",
   "execution_count": 65,
   "metadata": {},
   "outputs": [
    {
     "data": {
      "text/plain": [
       "{'_index': 'cornell',\n",
       " '_type': 'article',\n",
       " '_id': '0',\n",
       " '_version': 3,\n",
       " 'result': 'deleted',\n",
       " '_shards': {'total': 2, 'successful': 1, 'failed': 0},\n",
       " '_seq_no': 11,\n",
       " '_primary_term': 1}"
      ]
     },
     "execution_count": 65,
     "metadata": {},
     "output_type": "execute_result"
    }
   ],
   "source": [
    "delete_item(0)"
   ]
  },
  {
   "cell_type": "code",
   "execution_count": 66,
   "metadata": {},
   "outputs": [
    {
     "ename": "NotFoundError",
     "evalue": "NotFoundError(404, '{\"_index\":\"cornell\",\"_type\":\"_doc\",\"_id\":\"0\",\"found\":false}')",
     "output_type": "error",
     "traceback": [
      "\u001b[1;31m---------------------------------------------------------------------------\u001b[0m",
      "\u001b[1;31mNotFoundError\u001b[0m                             Traceback (most recent call last)",
      "\u001b[1;32m<ipython-input-66-35090745b236>\u001b[0m in \u001b[0;36m<module>\u001b[1;34m\u001b[0m\n\u001b[1;32m----> 1\u001b[1;33m \u001b[0mes\u001b[0m\u001b[1;33m.\u001b[0m\u001b[0mget\u001b[0m\u001b[1;33m(\u001b[0m\u001b[0mindex\u001b[0m\u001b[1;33m=\u001b[0m\u001b[1;34m\"cornell\"\u001b[0m\u001b[1;33m,\u001b[0m \u001b[0mid\u001b[0m\u001b[1;33m=\u001b[0m\u001b[1;36m0\u001b[0m\u001b[1;33m)\u001b[0m\u001b[1;33m\u001b[0m\u001b[1;33m\u001b[0m\u001b[0m\n\u001b[0m",
      "\u001b[1;32m~\\Anaconda3\\lib\\site-packages\\elasticsearch\\client\\utils.py\u001b[0m in \u001b[0;36m_wrapped\u001b[1;34m(*args, **kwargs)\u001b[0m\n\u001b[0;32m     90\u001b[0m                 \u001b[1;32mif\u001b[0m \u001b[0mp\u001b[0m \u001b[1;32min\u001b[0m \u001b[0mkwargs\u001b[0m\u001b[1;33m:\u001b[0m\u001b[1;33m\u001b[0m\u001b[1;33m\u001b[0m\u001b[0m\n\u001b[0;32m     91\u001b[0m                     \u001b[0mparams\u001b[0m\u001b[1;33m[\u001b[0m\u001b[0mp\u001b[0m\u001b[1;33m]\u001b[0m \u001b[1;33m=\u001b[0m \u001b[0mkwargs\u001b[0m\u001b[1;33m.\u001b[0m\u001b[0mpop\u001b[0m\u001b[1;33m(\u001b[0m\u001b[0mp\u001b[0m\u001b[1;33m)\u001b[0m\u001b[1;33m\u001b[0m\u001b[1;33m\u001b[0m\u001b[0m\n\u001b[1;32m---> 92\u001b[1;33m             \u001b[1;32mreturn\u001b[0m \u001b[0mfunc\u001b[0m\u001b[1;33m(\u001b[0m\u001b[1;33m*\u001b[0m\u001b[0margs\u001b[0m\u001b[1;33m,\u001b[0m \u001b[0mparams\u001b[0m\u001b[1;33m=\u001b[0m\u001b[0mparams\u001b[0m\u001b[1;33m,\u001b[0m \u001b[0mheaders\u001b[0m\u001b[1;33m=\u001b[0m\u001b[0mheaders\u001b[0m\u001b[1;33m,\u001b[0m \u001b[1;33m**\u001b[0m\u001b[0mkwargs\u001b[0m\u001b[1;33m)\u001b[0m\u001b[1;33m\u001b[0m\u001b[1;33m\u001b[0m\u001b[0m\n\u001b[0m\u001b[0;32m     93\u001b[0m \u001b[1;33m\u001b[0m\u001b[0m\n\u001b[0;32m     94\u001b[0m         \u001b[1;32mreturn\u001b[0m \u001b[0m_wrapped\u001b[0m\u001b[1;33m\u001b[0m\u001b[1;33m\u001b[0m\u001b[0m\n",
      "\u001b[1;32m~\\Anaconda3\\lib\\site-packages\\elasticsearch\\client\\__init__.py\u001b[0m in \u001b[0;36mget\u001b[1;34m(self, index, id, doc_type, params, headers)\u001b[0m\n\u001b[0;32m   1002\u001b[0m \u001b[1;33m\u001b[0m\u001b[0m\n\u001b[0;32m   1003\u001b[0m         return self.transport.perform_request(\n\u001b[1;32m-> 1004\u001b[1;33m             \u001b[1;34m\"GET\"\u001b[0m\u001b[1;33m,\u001b[0m \u001b[0m_make_path\u001b[0m\u001b[1;33m(\u001b[0m\u001b[0mindex\u001b[0m\u001b[1;33m,\u001b[0m \u001b[0mdoc_type\u001b[0m\u001b[1;33m,\u001b[0m \u001b[0mid\u001b[0m\u001b[1;33m)\u001b[0m\u001b[1;33m,\u001b[0m \u001b[0mparams\u001b[0m\u001b[1;33m=\u001b[0m\u001b[0mparams\u001b[0m\u001b[1;33m,\u001b[0m \u001b[0mheaders\u001b[0m\u001b[1;33m=\u001b[0m\u001b[0mheaders\u001b[0m\u001b[1;33m\u001b[0m\u001b[1;33m\u001b[0m\u001b[0m\n\u001b[0m\u001b[0;32m   1005\u001b[0m         )\n\u001b[0;32m   1006\u001b[0m \u001b[1;33m\u001b[0m\u001b[0m\n",
      "\u001b[1;32m~\\Anaconda3\\lib\\site-packages\\elasticsearch\\transport.py\u001b[0m in \u001b[0;36mperform_request\u001b[1;34m(self, method, url, headers, params, body)\u001b[0m\n\u001b[0;32m    360\u001b[0m                     \u001b[0mheaders\u001b[0m\u001b[1;33m=\u001b[0m\u001b[0mheaders\u001b[0m\u001b[1;33m,\u001b[0m\u001b[1;33m\u001b[0m\u001b[1;33m\u001b[0m\u001b[0m\n\u001b[0;32m    361\u001b[0m                     \u001b[0mignore\u001b[0m\u001b[1;33m=\u001b[0m\u001b[0mignore\u001b[0m\u001b[1;33m,\u001b[0m\u001b[1;33m\u001b[0m\u001b[1;33m\u001b[0m\u001b[0m\n\u001b[1;32m--> 362\u001b[1;33m                     \u001b[0mtimeout\u001b[0m\u001b[1;33m=\u001b[0m\u001b[0mtimeout\u001b[0m\u001b[1;33m,\u001b[0m\u001b[1;33m\u001b[0m\u001b[1;33m\u001b[0m\u001b[0m\n\u001b[0m\u001b[0;32m    363\u001b[0m                 )\n\u001b[0;32m    364\u001b[0m \u001b[1;33m\u001b[0m\u001b[0m\n",
      "\u001b[1;32m~\\Anaconda3\\lib\\site-packages\\elasticsearch\\connection\\http_urllib3.py\u001b[0m in \u001b[0;36mperform_request\u001b[1;34m(self, method, url, params, body, timeout, ignore, headers)\u001b[0m\n\u001b[0;32m    246\u001b[0m                 \u001b[0mmethod\u001b[0m\u001b[1;33m,\u001b[0m \u001b[0mfull_url\u001b[0m\u001b[1;33m,\u001b[0m \u001b[0murl\u001b[0m\u001b[1;33m,\u001b[0m \u001b[0morig_body\u001b[0m\u001b[1;33m,\u001b[0m \u001b[0mduration\u001b[0m\u001b[1;33m,\u001b[0m \u001b[0mresponse\u001b[0m\u001b[1;33m.\u001b[0m\u001b[0mstatus\u001b[0m\u001b[1;33m,\u001b[0m \u001b[0mraw_data\u001b[0m\u001b[1;33m\u001b[0m\u001b[1;33m\u001b[0m\u001b[0m\n\u001b[0;32m    247\u001b[0m             )\n\u001b[1;32m--> 248\u001b[1;33m             \u001b[0mself\u001b[0m\u001b[1;33m.\u001b[0m\u001b[0m_raise_error\u001b[0m\u001b[1;33m(\u001b[0m\u001b[0mresponse\u001b[0m\u001b[1;33m.\u001b[0m\u001b[0mstatus\u001b[0m\u001b[1;33m,\u001b[0m \u001b[0mraw_data\u001b[0m\u001b[1;33m)\u001b[0m\u001b[1;33m\u001b[0m\u001b[1;33m\u001b[0m\u001b[0m\n\u001b[0m\u001b[0;32m    249\u001b[0m \u001b[1;33m\u001b[0m\u001b[0m\n\u001b[0;32m    250\u001b[0m         self.log_request_success(\n",
      "\u001b[1;32m~\\Anaconda3\\lib\\site-packages\\elasticsearch\\connection\\base.py\u001b[0m in \u001b[0;36m_raise_error\u001b[1;34m(self, status_code, raw_data)\u001b[0m\n\u001b[0;32m    242\u001b[0m \u001b[1;33m\u001b[0m\u001b[0m\n\u001b[0;32m    243\u001b[0m         raise HTTP_EXCEPTIONS.get(status_code, TransportError)(\n\u001b[1;32m--> 244\u001b[1;33m             \u001b[0mstatus_code\u001b[0m\u001b[1;33m,\u001b[0m \u001b[0merror_message\u001b[0m\u001b[1;33m,\u001b[0m \u001b[0madditional_info\u001b[0m\u001b[1;33m\u001b[0m\u001b[1;33m\u001b[0m\u001b[0m\n\u001b[0m\u001b[0;32m    245\u001b[0m         )\n\u001b[0;32m    246\u001b[0m \u001b[1;33m\u001b[0m\u001b[0m\n",
      "\u001b[1;31mNotFoundError\u001b[0m: NotFoundError(404, '{\"_index\":\"cornell\",\"_type\":\"_doc\",\"_id\":\"0\",\"found\":false}')"
     ]
    }
   ],
   "source": [
    "es.get(index=\"cornell\", id=0)"
   ]
  },
  {
   "cell_type": "markdown",
   "metadata": {},
   "source": [
    "Теперь в БД нет документа с таким id. "
   ]
  },
  {
   "cell_type": "code",
   "execution_count": null,
   "metadata": {},
   "outputs": [],
   "source": [
    "# Класс, хранящий информацию о сгенерированном тексте.\n",
    "class GeneratedArticle:\n",
    "    def __init__(self):\n",
    "        self.text = \"\"\n",
    "        self.model = \"\"\n",
    "        self.sampling_type = \"\"\n",
    "        self.parameter = \"\"      \n",
    "        \n",
    "    \n",
    "    # Конвертация в JSON.\n",
    "    def toJSON(self):\n",
    "        res='{\"text\":\"'+self.text+'\", \"model\":\"'+self.model+'\", \"sampling_type\":\"'+self.sampling_type+'\", \"parameter\":\"'\n",
    "        res+=self.parameter+'\"}'\n",
    "        return res\n",
    "    \n",
    "    # Конвертация в словарь.\n",
    "    def toDict(self):\n",
    "        res={\"text\":self.text, \"model\":self.model, \"sampling_type\":self.sampling_type, \"parameter\":self.parameter}\n",
    "        return res"
   ]
  }
 ],
 "metadata": {
  "kernelspec": {
   "display_name": "Python 3",
   "language": "python",
   "name": "python3"
  },
  "language_info": {
   "codemirror_mode": {
    "name": "ipython",
    "version": 3
   },
   "file_extension": ".py",
   "mimetype": "text/x-python",
   "name": "python",
   "nbconvert_exporter": "python",
   "pygments_lexer": "ipython3",
   "version": "3.7.4"
  }
 },
 "nbformat": 4,
 "nbformat_minor": 2
}
