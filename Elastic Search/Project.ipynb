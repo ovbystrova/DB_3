{
 "cells": [
  {
   "cell_type": "markdown",
   "metadata": {},
   "source": [
    "Требования к нереляционным БД\n",
    "\n",
    "2 - нереляционная БД\n",
    "\n",
    "2 - красивая структура БД\n",
    "\n",
    "2 - интерфейс позволяет класть, доставать, удалять данные (проводить операции CRUD - Create, Read, Update, Delete)\n",
    "\n",
    "2 - два действия помимо CRUD (сортировка, группировка, агрегация, ...)\n",
    "\n",
    "2 - зависит от БД: Redis - использование ключей, хешей, ...; Neo4j - нахождение путей не только к соседним вершинам, операции с графами; MongoDB, ElasticSearch - работа с текстами или географией; остальные БД - будем договарив"
   ]
  },
  {
   "cell_type": "code",
   "execution_count": 4,
   "metadata": {},
   "outputs": [],
   "source": [
    "from elasticsearch import Elasticsearch\n",
    "\n",
    "import json"
   ]
  },
  {
   "cell_type": "code",
   "execution_count": 3,
   "metadata": {},
   "outputs": [],
   "source": [
    "es = Elasticsearch()"
   ]
  },
  {
   "cell_type": "code",
   "execution_count": null,
   "metadata": {},
   "outputs": [],
   "source": [
    "# Класс, хранящий информацию о статье.\n",
    "class Article:\n",
    "    def __init__(self):\n",
    "        self.url = \"\"\n",
    "        self.archive = \"\"\n",
    "        self.title = \"\"\n",
    "        self.date = \"\"\n",
    "        self.text = \"\"\n",
    "        self.summary = \"\"\n",
    "        \n",
    "    \n",
    "    # Конвертация в JSON.\n",
    "    def toJSON(self):\n",
    "        res='{\"url\":\"'+self.url+'\", \"archive\":\"'+self.archive+'\", \"title\":\"'+self.title+'\", \"date\":\"'\n",
    "        res+=self.date+'\", \"text\":\"'+self.text+'\", \"summary\":\"'+self.summer+'\"}'\n",
    "        return res\n",
    "    \n",
    "    # Конвертация в словарь.\n",
    "    def toDict(self):\n",
    "        res={\"url\":self.url, \"archive\":self.archive, \"title\":self.title, \"date\":self.date,\\\n",
    "             \"text\":self.text, \"summary\":self.summary}\n",
    "        return res"
   ]
  },
  {
   "cell_type": "code",
   "execution_count": null,
   "metadata": {},
   "outputs": [],
   "source": [
    "# Класс, хранящий информацию о сгенерированном тексте.\n",
    "class GeneratedArticle:\n",
    "    def __init__(self):\n",
    "        self.text = \"\"\n",
    "        self.model = \"\"\n",
    "        self.sampling_type = \"\"\n",
    "        self.parameter = \"\"      \n",
    "        \n",
    "    \n",
    "    # Конвертация в JSON.\n",
    "    def toJSON(self):\n",
    "        res='{\"text\":\"'+self.text+'\", \"model\":\"'+self.model+'\", \"sampling_type\":\"'+self.sampling_type+'\", \"parameter\":\"'\n",
    "        res+=self.parameter+'\"}'\n",
    "        return res\n",
    "    \n",
    "    # Конвертация в словарь.\n",
    "    def toDict(self):\n",
    "        res={\"text\":self.text, \"model\":self.model, \"sampling_type\":self.sampling_type, \"parameter\":self.parameter}\n",
    "        return res"
   ]
  },
  {
   "cell_type": "markdown",
   "metadata": {},
   "source": [
    "# Data exploration"
   ]
  },
  {
   "cell_type": "code",
   "execution_count": 12,
   "metadata": {},
   "outputs": [],
   "source": [
    "with open('test-stats.jsonl', 'r') as json_file:\n",
    "        json_list = list(json_file)[:10]\n",
    "        \n",
    "# data = []\n",
    "# for json_str in json_list:\n",
    "#         result = json.loads(json_str)\n",
    "#         data.append(clean_data(result['text']))"
   ]
  },
  {
   "cell_type": "code",
   "execution_count": 13,
   "metadata": {},
   "outputs": [
    {
     "data": {
      "text/plain": [
       "'{\"url\":\"http:\\\\/\\\\/www.nydailynews.com\\\\/ar'"
      ]
     },
     "execution_count": 13,
     "metadata": {},
     "output_type": "execute_result"
    }
   ],
   "source": [
    "json_list[0][:40]"
   ]
  },
  {
   "cell_type": "code",
   "execution_count": 16,
   "metadata": {},
   "outputs": [
    {
     "name": "stdout",
     "output_type": "stream",
     "text": [
      "dict_keys(['url', 'archive', 'title', 'date', 'text', 'summary', 'compression', 'coverage', 'density', 'compression_bin', 'coverage_bin', 'density_bin'])\n",
      "http://www.nydailynews.com/archives/news/1995/10/14/1995-10-14_selena_s_last_cries___shot_s.html\n",
      "===============================\n",
      "http://web.archive.org/web/20090428161725id_/http://www.nydailynews.com:80/archives/news/1995/10/14/1995-10-14_selena_s_last_cries___shot_s.html\n",
      "===============================\n",
      "SELENA'S LAST CRIES SHOT SINGER BEGGED HELP, NAMED SUSPECT\n",
      "===============================\n",
      "20090428161725\n",
      "===============================\n",
      "By MATT SCHWARTZ in Houston and WENDELL JAMIESON in New York Daily News Writers\n",
      "\n",
      "Saturday, October 14th 1995, 4:22AM\n",
      "\n",
      "Bleeding from a massive chest wound, Tejano star Selena cried, \"Help me! Help me! I've been shot!\" and then named her killer with her dying breath.\n",
      "\n",
      "Shaken witnesses yesterday told a spellbound Houston courtroom how the blood-covered, mortally wounded 23-year-old Hispanic singing sensation burst into the lobby of the Corpus Christi Days Inn last March 31.\n",
      "\n",
      "Gasping for breath, Selena told motel workers that Yolanda Saldivar the president of her fan club shot her once in the back. She begged, \"Close the door or she will shoot me again,\" the witnesses said.\n",
      "\n",
      "The testimony came on the third day of Saldivar's trial on charges she murdered Selena with a shot from a .38-caliber revolver when the star tried to fire her for embezzling $30,000 from two boutiques she managed for the singer.\n",
      "\n",
      "As a paramedic and motel workers recounted Selena's last desperate moments, her mother, father and brother sobbed quietly. Saldivar, as she has throughout the trial, stared blankly.\n",
      "\n",
      "Ruben Deleon, the motel's sales director, said he knelt over the dying star and asked who shot her.\n",
      "\n",
      "\"She said 'Yolanda Saldivar in room 158,' \" Deleon said.\n",
      "\n",
      "\"She was yelling, 'Help me! Help me! I've been shot,' \" said Rosalinda Gonzalez, an assistant manager. \"I asked who shot her. She said the lady in room 158. She moaned. Her eyes rolled up.\"\n",
      "\n",
      "Front desk clerk Shawna Vela said she dialed 911 and took the phone with her as she kneeled over the fallen singer, asking her what happened.\n",
      "\n",
      "\"She said 'Yolanda,' she said 'In room 158,' \" Vela testified.\n",
      "\n",
      "The first paramedic on the scene, Richard Fredrickson, testified that he arrived just two minutes after the call but it was already too late.\n",
      "\n",
      "\"The girl was covered with blood,\" he remembered. \"Blood was thick from her neck to her knees, all the way around both sides.\"\n",
      "\n",
      "Fredrickson couldn't even see the mortal wound until he cut off Selena's sweatshirt. He felt for a pulse in her neck but could feel only twitching muscles, he said.\n",
      "\n",
      "Minutes later, as he rode in an ambulance with the now unconscious Selena, he unclenched the dying woman's fist and made an ironic discovery.\n",
      "\n",
      "\"When I opened it, a ring fell out,\" he said. \"It was covered with blood.\"\n",
      "\n",
      "The 14-karat gold and diamond ring, topped with a white-gold egg, was a gift from the Grammy winner's boutique employes and Saldivar. Police have said Saldivar demanded the ring back. But before Selena could hand it over, she was shot.\n",
      "\n",
      "The singer, whose full name was Selena Quintanilla Perez, was born around Easter and collected decorative eggs.\n",
      "\n",
      "The defense claims Saldivar, 35, was hysterical and shot Selena by accident. Prosecutors say it was deliberate.\n",
      "===============================\n",
      "Bleeding from a massive chest wound, Tejano star Selena cried, \"Help me! Help me! I've been shot!\"and then named her killer with her dying breath. Shaken witnesses yesterday told a spellbound Houston courtroom how the blood-covered, mortally wounded 23-year-old Hispanic singing sensation burst into the lobby of the Corpus Christi Days Inn last March 31. Gasping for breath, Selena told motel workers that Yolanda Saldivar the president of her fan club shot\n",
      "===============================\n",
      "6.9651162791\n",
      "===============================\n",
      "0.988372093\n",
      "===============================\n",
      "25.4069767442\n",
      "===============================\n",
      "low\n",
      "===============================\n",
      "high\n",
      "===============================\n",
      "extractive\n",
      "===============================\n"
     ]
    }
   ],
   "source": [
    "for json_str in json_list:\n",
    "    result = json.loads(json_str)\n",
    "    print(result.keys())\n",
    "    print(result['url'])\n",
    "    print('===============================')\n",
    "    print(result['archive'])\n",
    "    print('===============================')\n",
    "    print(result['title'])\n",
    "    print('===============================')\n",
    "    print(result['date'])\n",
    "    print('===============================')\n",
    "    print(result['text'])\n",
    "    print('===============================')\n",
    "    print(result['summary'])\n",
    "    print('===============================')\n",
    "#     print(result['compression'])\n",
    "#     print('===============================')\n",
    "#     print(result['coverage'])\n",
    "#     print('===============================')\n",
    "#     print(result['density'])\n",
    "#     print('===============================')\n",
    "#     print(result['compression_bin'])\n",
    "#     print('===============================')\n",
    "#     print(result['coverage_bin'])\n",
    "#     print('===============================')\n",
    "#     print(result['density_bin'])\n",
    "#     print('===============================')\n",
    "    break\n",
    "#     data.append(clean_data(result['text']))"
   ]
  },
  {
   "cell_type": "code",
   "execution_count": null,
   "metadata": {},
   "outputs": [],
   "source": []
  }
 ],
 "metadata": {
  "kernelspec": {
   "display_name": "Python 3",
   "language": "python",
   "name": "python3"
  },
  "language_info": {
   "codemirror_mode": {
    "name": "ipython",
    "version": 3
   },
   "file_extension": ".py",
   "mimetype": "text/x-python",
   "name": "python",
   "nbconvert_exporter": "python",
   "pygments_lexer": "ipython3",
   "version": "3.7.4"
  }
 },
 "nbformat": 4,
 "nbformat_minor": 2
}
